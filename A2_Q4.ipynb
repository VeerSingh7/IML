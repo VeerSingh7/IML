{
 "cells": [
  {
   "cell_type": "code",
   "execution_count": 9,
   "metadata": {},
   "outputs": [],
   "source": [
    "import pandas as pd\n",
    "import numpy as np\n"
   ]
  },
  {
   "cell_type": "code",
   "execution_count": 10,
   "metadata": {},
   "outputs": [],
   "source": [
    "\n",
    "data = pd.read_csv(r\"C:\\Users\\Veer\\Downloads\\perceptron_assignment.csv\")\n"
   ]
  },
  {
   "cell_type": "code",
   "execution_count": 11,
   "metadata": {},
   "outputs": [],
   "source": [
    "def hypothesis(theta, x):\n",
    "    \"\"\" hypothesis function\n",
    "    Args:\n",
    "      theta: weight vector of the hypothesis.\n",
    "      x: input feature vector.\n",
    "\n",
    "    Returns:\n",
    "      1 if the hypothesis predicts a positive class, 0 otherwise.\n",
    "    \"\"\"\n",
    "    return 1 if np.dot(theta, x) >= 0 else 0"
   ]
  },
  {
   "cell_type": "code",
   "execution_count": 12,
   "metadata": {},
   "outputs": [],
   "source": [
    "def training_error(theta):\n",
    "    \"\"\"Calculates the training error of a hypothesis.\"\"\"\n",
    "    misclassified = 0\n",
    "    for i in range(len(data)):\n",
    "        x = np.array([data['x'][i], data['y'][i]])\n",
    "        result = data['result'][i]\n",
    "        prediction = hypothesis(theta, x)  \n",
    "        if prediction != result:\n",
    "            misclassified += 1\n",
    "    return misclassified / len(data)\n"
   ]
  },
  {
   "cell_type": "code",
   "execution_count": 13,
   "metadata": {},
   "outputs": [],
   "source": [
    "# defining theta for diff hypotheses \n",
    "thetas = [\n",
    "    np.array([0, -1]),        \n",
    "    np.array([0.65, -0.22]),  \n",
    "    np.array([0.9, -1]),     \n",
    "    np.array([0.7, -0.5]),     \n",
    "    np.array([0.5, -0.4])      \n",
    "]\n"
   ]
  },
  {
   "cell_type": "code",
   "execution_count": 14,
   "metadata": {},
   "outputs": [
    {
     "name": "stdout",
     "output_type": "stream",
     "text": [
      "Training error for hypothesis case 1: 0.5100\n",
      "Training error for hypothesis case 2: 0.3460\n",
      "Training error for hypothesis case 3: 0.0380\n",
      "Training error for hypothesis case 4: 0.1700\n",
      "Training error for hypothesis case 5: 0.1080\n"
     ]
    }
   ],
   "source": [
    "\n",
    "# Computing the training errors\n",
    "for i, theta in enumerate(thetas):\n",
    "    error = training_error(theta)\n",
    "    print(f\"Training error for hypothesis case {i+1}: {error:.4f}\")"
   ]
  }
 ],
 "metadata": {
  "kernelspec": {
   "display_name": "Python 3 (ipykernel)",
   "language": "python",
   "name": "python3"
  },
  "language_info": {
   "codemirror_mode": {
    "name": "ipython",
    "version": 3
   },
   "file_extension": ".py",
   "mimetype": "text/x-python",
   "name": "python",
   "nbconvert_exporter": "python",
   "pygments_lexer": "ipython3",
   "version": "3.10.8"
  }
 },
 "nbformat": 4,
 "nbformat_minor": 2
}
